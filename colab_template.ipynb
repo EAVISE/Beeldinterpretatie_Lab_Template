{
  "nbformat": 4,
  "nbformat_minor": 0,
  "metadata": {
    "colab": {
      "name": "Copy of sjabloon_labo_beeldinterpretatie.ipynb",
      "provenance": [],
      "collapsed_sections": [],
      "toc_visible": true
    },
    "kernelspec": {
      "name": "python3",
      "display_name": "Python 3"
    },
    "accelerator": "GPU"
  },
  "cells": [
    {
      "cell_type": "markdown",
      "metadata": {
        "id": "yROsZhR1p3Jo",
        "colab_type": "text"
      },
      "source": [
        "[![Open In Colab](https://colab.research.google.com/assets/colab-badge.svg)](https://colab.research.google.com/github/EAVISE/Beeldinterpretatie_Lab_Template/blob/master/colab_template.ipynb)"
      ]
    },
    {
      "cell_type": "code",
      "metadata": {
        "id": "Hb5AT_Fn2maP",
        "colab_type": "code",
        "colab": {}
      },
      "source": [
        "# These lines will update the dependencies in this Jupyter notebook\n",
        "!pip install -qq -U 'datascience' 'albumentations==0.3.3'\n",
        "!pip install -qq  'opencv-python==4.1.1.26' --force-reinstall\n",
        "!pip install -qq 'ipywebrtc' 'mpld3'\n",
        "\n",
        "import io\n",
        "import base64\n",
        "\n",
        "from __future__ import print_function\n",
        "from ipywidgets import interact, interactive, fixed, interact_manual\n",
        "import ipywidgets as widgets\n",
        "from IPython.display import *\n",
        "\n",
        "import cv2\n",
        "import numpy as np\n",
        "import matplotlib.pyplot as plt \n",
        "import copy\n",
        "\n",
        "import mpld3\n",
        "from mpld3 import plugins",
        "\n",
        "import time\n",
        "from tqdm import tqdm_notebook as tqdm\n",
        "\n",
      ],
      "execution_count": 0,
      "outputs": []
    },
    {
      "cell_type": "markdown",
      "metadata": {
        "id": "uJpkQe-HBmQF",
        "colab_type": "text"
      },
      "source": [
        "## Interactief werken met sliders\n",
        "\n",
        "@interact(img_idx={f'sign{i}.jpg':i-1 for i in range(1, 5)},\n",
        "          lower_thres_r=(0,255), upper_thres_r=(0,255))\n",
        "\n",
        "def bgr_threshold_sign_r(upper_thres_r=250,\n",
        "                         lower_thres_r=150,\n",
        "                         img_idx=0):"
      ]
    },
    {
      "cell_type": "code",
      "metadata": {
        "id": "jcNc09g85RhT",
        "colab_type": "code",
        "cellView": "form",
        "colab": {}
      },
      "source": [
        "#@title Laad de data voor de introductiezitting in door dit uit te voeren\n",
        "Lab =  \"intro\" #@param [\"intro\", \"1\", \"2\", \"3\", \"4\", \"5\", \"6\", \"7\"]\n",
        "\n",
        "# Download all the required data + unpack\n",
        "\n",
        "current_session = \"sessie_\" + Lab\n",
        "\n",
        "!rm -rf ./*\n",
        "#TODO\n",
        "\n",
        "!wget -q \"http://iiw.denayer.be/~tca/imageprocessing/lab.zip\"\n",
        "!unzip -qq -o \"lab.zip\"\n",
        "\n",
        "!wget -q \"http://iiw.denayer.be/~tca/imageprocessing/{current_session}.zip\"\n",
        "!unzip -qq -o \"{current_session}.zip\" -d \"./data\"\n",
        "!rm -rf \"*.zip\"\n",
        "# Opening readme\n",
        "with open('data/readme.html') as f:\n",
        "    html_data = ''.join(f.readlines())\n",
        "    \n",
        "HTML(html_data)\n"
      ],
      "execution_count": 0,
      "outputs": []
    },
    {
      "cell_type": "code",
      "metadata": {
        "id": "XHQOgGTzyeP5",
        "colab_type": "code",
        "colab": {}
      },
      "source": [
        "# Voer dit altijd uit om toegang te krijgen tot functionaliteit die wij voor jullie genereren\n",
        "import lab"
      ],
      "execution_count": 0,
      "outputs": []
    },
    {
      "cell_type": "code",
      "metadata": {
        "colab_type": "code",
        "id": "C7qj035Jn1ec",
        "colab": {}
      },
      "source": [
        "# Voer dit altijd uit om na te gaan of je data effectief beschikbaar is\n",
        "ls data"
      ],
      "execution_count": 0,
      "outputs": []
    },
    {
      "cell_type": "markdown",
      "metadata": {
        "id": "QCtkoUWTq13v",
        "colab_type": "text"
      },
      "source": [
        "# Lab code - start hieronder met programmeren"
      ]
    },
    {
      "cell_type": "code",
      "metadata": {
        "id": "r1qTRGSoAMqw",
        "colab_type": "code",
        "colab": {}
      },
      "source": [
        "# Je eigen code start in blokken vanaf hier\n",
        "cv2.__version__"
      ],
      "execution_count": 0,
      "outputs": []
    }
  ]
}
